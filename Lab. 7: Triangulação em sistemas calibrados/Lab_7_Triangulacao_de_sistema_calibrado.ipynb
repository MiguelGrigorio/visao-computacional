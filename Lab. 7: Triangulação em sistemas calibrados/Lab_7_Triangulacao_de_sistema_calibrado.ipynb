{
  "nbformat": 4,
  "nbformat_minor": 0,
  "metadata": {
    "colab": {
      "provenance": []
    },
    "kernelspec": {
      "name": "python3",
      "display_name": "Python 3"
    },
    "language_info": {
      "name": "python"
    }
  },
  "cells": [
    {
      "cell_type": "markdown",
      "source": [
        "# Lab 7 - Triangulação em sistemas calibrados\n",
        "Neste laboratório, vamos aprender a realizar a triangulação dos pontos, ou seja, recuperar a informação de profundidade dos pixels. Para isso, é necessário pelo menos dois pontos de vista de um mesmo ponto, assim como visto na Aula 7. Esse sistema de câmeras devem estar calibrados, ou seja, com suas matrizes K, dist, R e t já estimadas.\n",
        "\n",
        "![image.png](data:image/png;base64,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)\n",
        "\n",
        "Veremos, no laboratório 8, que conseguimos descobrir a distância que um ArUco está da câmera utilizando apenas uma câmera. Entretanto, isso só é possível pelo fato de termos informações extras do ArUco, como, seu formato e dimensões métricas."
      ],
      "metadata": {
        "id": "mK4f7MX9Enqu"
      }
    },
    {
      "cell_type": "markdown",
      "source": [
        "## Triangulação"
      ],
      "metadata": {
        "id": "AdMI4dC9Uzwq"
      }
    },
    {
      "cell_type": "code",
      "source": [
        "import numpy as np\n",
        "from math import pi,cos,sin                  # Funções e variáveis matemáticas"
      ],
      "metadata": {
        "id": "9hrIoPiaEzmu"
      },
      "execution_count": null,
      "outputs": []
    },
    {
      "cell_type": "markdown",
      "source": [
        "###Definição de funções e objeto da câmera"
      ],
      "metadata": {
        "id": "eYSRp_o6U57w"
      }
    },
    {
      "cell_type": "code",
      "source": [
        "def translacao(dx):\n",
        "  T = np.eye(len(dx)+1)\n",
        "  for i, d in enumerate(dx):\n",
        "    T[i,-1] = d\n",
        "  return T\n",
        "\n",
        "def rotacao(angulo,dim='2d'):\n",
        "  anguloD = angulo*pi/180\n",
        "  if dim == '2d':\n",
        "    R = np.array([[cos(anguloD),-sin(anguloD),0],[sin(anguloD),cos(anguloD),0],[0,0,1]])\n",
        "  elif dim == 'x':\n",
        "    R = np.array([[1,0,0,0],[0,cos(anguloD),-sin(anguloD),0],[0,sin(anguloD),cos(anguloD),0],[0,0,0,1]])\n",
        "  elif dim == 'y':\n",
        "    R = np.array([[cos(anguloD),0,sin(anguloD),0],[0,1,0,0],[-sin(anguloD),0,cos(anguloD),0],[0,0,0,1]])\n",
        "  else:\n",
        "    R = np.array([[cos(anguloD),-sin(anguloD),0,0],[sin(anguloD),cos(anguloD),0,0],[0,0,1,0],[0,0,0,1]])\n",
        "  return R"
      ],
      "metadata": {
        "id": "TrXbWip-FBgp"
      },
      "execution_count": null,
      "outputs": []
    },
    {
      "cell_type": "code",
      "source": [
        "class Camera(object):\n",
        "  # cam = Camera(cam_pos=np.array([15,5,5]),cam_rot=np.array([-90,0,90]))\n",
        "  def __init__(self,focal=1,cam_center=np.array([0,0]),cam_pos=np.array([0,0,0]),cam_rot=np.array([0,0,0])):\n",
        "  # P = K[R|t]\n",
        "    self.K = np.array([[focal,0,cam_center[0]],[0,focal,cam_center[1]],[0,0,1]])\n",
        "    self.R = rotacao(cam_rot[2],dim='z')@rotacao(cam_rot[1],dim='y')@rotacao(cam_rot[0],dim='x')\n",
        "    self.t = translacao(cam_pos)\n",
        "\n",
        "    # Rt leva do que a camera ve para o mundo. inv(Rt) leva das coordenadas do mundo pras da camera\n",
        "    self.Rt = np.linalg.inv(self.t@self.R)\n",
        "    self.P = self.K@np.array([[1,0,0,0],[0,1,0,0],[0,0,1,0]])@self.Rt"
      ],
      "metadata": {
        "id": "cZ4Obcf4ToJO"
      },
      "execution_count": null,
      "outputs": []
    },
    {
      "cell_type": "markdown",
      "source": [
        "### Maneira 1 de triangulação: equações"
      ],
      "metadata": {
        "id": "3pnGQk2qUR4X"
      }
    },
    {
      "cell_type": "markdown",
      "source": [
        "A primeira forma de realizar a triangulação segue as soluções da esquação $z_2\\boldsymbol{\\dot{u}_2} = K_2\\left ( z_1 R_{21} K_1^{-1} \\boldsymbol{\\dot{u}_1} + t_{21} \\right )$ .\n",
        "\n",
        "Em que:\n",
        "\n",
        "$z_1' = \\frac{t_x - x_{u2}t_z}{x_{u2}r_{zu1} - r_{xu1}}$, $z_1'' = \\frac{t_y - y_{u2}t_z}{y_{u2}r_{zu1} - r_{yu1}}$ e $z_2 = z_1r_{zu1}+t_z$ ."
      ],
      "metadata": {
        "id": "AMYt4ax95VBY"
      }
    },
    {
      "cell_type": "code",
      "source": [
        "# Criação das câmeras\n",
        "cam1 = Camera(focal=500,cam_center=np.array([319.5,239.5]))\n",
        "cam2 = Camera(focal=500,cam_center=np.array([319.5,239.5]),cam_pos = np.array([10,-1,0]),cam_rot=np.array([0,-10,0]))\n",
        "\n",
        "# Definição das matrizes\n",
        "Rt21 = cam2.Rt\n",
        "K1 = cam1.K\n",
        "K2 = cam2.K\n",
        "\n",
        "# u1 e u2 do Exemplo 1 da aula 7 para X1 = [1, 2, 5]^T\n",
        "u1 = np.array([[419.5],[439.5],[1]])\n",
        "u2 = np.array([[-296.747],[470.736],[1]])"
      ],
      "metadata": {
        "id": "dnUNdHWS7QCk"
      },
      "execution_count": null,
      "outputs": []
    },
    {
      "cell_type": "markdown",
      "source": [
        "Eu encontrei esses pixels projetando o ponto $\\mathbf{X_1} = [1,2,5]^T$ nos planos da imagem da câmera 1 e câmera 2:"
      ],
      "metadata": {
        "id": "abTMD84i8mjW"
      }
    },
    {
      "cell_type": "code",
      "source": [
        "# Ponto X1\n",
        "X1 = np.array([[1],[2],[5]])\n",
        "\n",
        "# Projecao de X1 na camera 1\n",
        "u1 = K1@X1                        # Projeção na cam1\n",
        "u1 = u1/u1[2]\n",
        "print(\"u1:\",u1)\n",
        "\n",
        "# Projecao de X1 na camera 2, saindo do referencial 1 para o 2\n",
        "X1h = np.vstack((X1,np.ones(1)))\n",
        "X2h = Rt21@X1h                    # Mudança de referencial de cam1 para cam2\n",
        "X2 = X2h[:-1]\n",
        "u2 = K2@X2                        # Projeção na cam2\n",
        "u2 = u2/u2[2]\n",
        "print(\"u2:\",u2)"
      ],
      "metadata": {
        "colab": {
          "base_uri": "https://localhost:8080/"
        },
        "id": "zk-Gbo1R8aXk",
        "outputId": "34c6c7e4-ab80-49c6-944d-dc8faea347f4"
      },
      "execution_count": null,
      "outputs": [
        {
          "output_type": "stream",
          "name": "stdout",
          "text": [
            "u1: [[419.5]\n",
            " [439.5]\n",
            " [  1. ]]\n",
            "u2: [[-296.74681665]\n",
            " [ 470.73624388]\n",
            " [   1.        ]]\n"
          ]
        }
      ]
    },
    {
      "cell_type": "markdown",
      "source": [
        "Vamos utilizar aquelas equações acima para encontrar os dois valores possíveis de $z_1$ e $z_2$ e depois encontraremos $\\mathbf{X_1}$:"
      ],
      "metadata": {
        "id": "AyOnVTUU9sbU"
      }
    },
    {
      "cell_type": "code",
      "source": [
        "# Triangulação para encontrar z1 e z2\n",
        "#u1 = np.array([[420],[440],[1]])\n",
        "#u2 = np.array([[-297],[471],[1]])\n",
        "xu1 = np.linalg.inv(K1)@u1\n",
        "xu2 = np.linalg.inv(K2)@u2\n",
        "\n",
        "# Definindo as matrizes R21 e t21\n",
        "R21 = Rt21[:-1,:-1]\n",
        "t21 = Rt21[:-1,-1].reshape(-1, 1)\n",
        "rxu1 = R21@xu1\n",
        "\n",
        "z1_1 = (t21[0]-xu2[0]*t21[2])/(xu2[0]*rxu1[2]-rxu1[0])\n",
        "print(\"z1_1:\",z1_1)\n",
        "z1_2 = (t21[1]-xu2[1]*t21[2])/(xu2[1]*rxu1[2]-rxu1[1])\n",
        "print(\"z1_2:\",z1_2)\n",
        "z2_1 = z1_1*rxu1[2]+t21[2]\n",
        "print(\"z2_1:\",z2_1)\n",
        "z2_2 = z1_2*rxu1[2]+t21[2]\n",
        "print(\"z2_2:\",z2_2)\n",
        "X1_calc = z1_1*np.linalg.inv(K1)@u1\n",
        "print(\"X1:\",X1_calc)\n",
        "X1_calc = z1_2*np.linalg.inv(K1)@u1\n",
        "print(\"X1:\",X1_calc)"
      ],
      "metadata": {
        "colab": {
          "base_uri": "https://localhost:8080/"
        },
        "id": "snqPE9f7-JZt",
        "outputId": "5229b5ea-c647-404e-da60-0ca8f82e473c"
      },
      "execution_count": null,
      "outputs": [
        {
          "output_type": "stream",
          "name": "stdout",
          "text": [
            "z1_1: [5.]\n",
            "z1_2: [5.]\n",
            "z2_1: [6.48687236]\n",
            "z2_2: [6.48687236]\n",
            "X1: [[1.]\n",
            " [2.]\n",
            " [5.]]\n",
            "X1: [[1.]\n",
            " [2.]\n",
            " [5.]]\n"
          ]
        }
      ]
    },
    {
      "cell_type": "markdown",
      "source": [
        "### Maneira 2 de triangulação: SVD"
      ],
      "metadata": {
        "id": "BiY3yyqeUZbu"
      }
    },
    {
      "cell_type": "markdown",
      "source": [
        "A segunda forma de realizar a triangulação vem da solução pelo SVD da matriz A:\n",
        "\n",
        "$\\underset{A}{\\underbrace{\\begin{bmatrix}\n",
        "P_1 & -\\boldsymbol{\\dot{u}_1} & \\boldsymbol{0} \\\\\n",
        "P_2 & \\boldsymbol{0} & -\\boldsymbol{\\dot{u}_2} \\\\\n",
        "\\end{bmatrix}}}\\begin{bmatrix}\n",
        "\\boldsymbol{\\dot{X}_1} \\\\\n",
        "z_1 \\\\\n",
        "z_2\\end{bmatrix} = 0$ .\n",
        "\n",
        "Em que a última linha de $\\boldsymbol{v_N} = V^T[-1,:]$ deve estar no formato:\n",
        "\n",
        "$\\boldsymbol{v_N} = \\lambda\\begin{bmatrix}\n",
        "x_1 \\\\\n",
        "y_1 \\\\\n",
        "z_1 \\\\\n",
        "1 \\\\\n",
        "z_1 \\\\\n",
        "z_2\\end{bmatrix}$ .\n",
        "\n",
        "Ao dividir todos os elementos de $\\boldsymbol{v_N}$ pelo elemento $\\boldsymbol{{v_N}}[3]$, o fator $\\lambda$ some e conseguimos estimar o ponto 3D $\\boldsymbol{X_1}$."
      ],
      "metadata": {
        "id": "E-jHqPSx_SGA"
      }
    },
    {
      "cell_type": "code",
      "source": [
        "# Criação das câmeras\n",
        "cam1 = Camera(focal=500,cam_center=np.array([319.5,239.5]))\n",
        "cam2 = Camera(focal=500,cam_center=np.array([319.5,239.5]),cam_pos = np.array([10,-1,0]),cam_rot=np.array([0,-10,0]))\n",
        "\n",
        "# Definição das matrizes\n",
        "P11 = cam1.P\n",
        "P21 = cam2.P\n",
        "\n",
        "# u1 e u2 do Exemplo 1 da aula 7 para X1 = [1, 2, 5]^T\n",
        "u1 = np.array([[419.5],[439.5],[1]])\n",
        "u2 = np.array([[-296.747],[470.736],[1]])\n",
        "\n",
        "# A[X1;z1;z2] = 0\n",
        "A = np.vstack((np.hstack((P11,-u1,np.zeros((3,1)))),np.hstack((P21,np.zeros((3,1)),-u2))))\n",
        "\n",
        "# Calcula o SVD(A) = U.S.Vt\n",
        "U,S,Vt = np.linalg.svd(A)\n",
        "\n",
        "# Reshape da ultima linha de Vt (ultima coluna de V) para a matriz de homografia\n",
        "vN = Vt[-1,:].reshape(6,1)\n",
        "vN = vN/vN[3]\n",
        "print(vN)"
      ],
      "metadata": {
        "colab": {
          "base_uri": "https://localhost:8080/"
        },
        "outputId": "3325a106-c43e-41e1-f610-5d4e7700171a",
        "id": "ST6erHfkRlI8"
      },
      "execution_count": null,
      "outputs": [
        {
          "output_type": "stream",
          "name": "stdout",
          "text": [
            "[[0.99999825]\n",
            " [1.99999789]\n",
            " [4.99999854]\n",
            " [1.        ]\n",
            " [4.9999968 ]\n",
            " [6.48687291]]\n"
          ]
        }
      ]
    },
    {
      "cell_type": "code",
      "source": [
        "import cv2\n",
        "X_hom = cv2.triangulatePoints(P11, P21, u1[:2], u2[:2])\n",
        "X = X_hom / X_hom[3]\n",
        "print(X)"
      ],
      "metadata": {
        "colab": {
          "base_uri": "https://localhost:8080/"
        },
        "id": "F9u_DXjJH7tE",
        "outputId": "3ddd59a7-793c-4e5c-e060-073fc83b4c38"
      },
      "execution_count": null,
      "outputs": [
        {
          "output_type": "stream",
          "name": "stdout",
          "text": [
            "[[0.99999955]\n",
            " [1.99999782]\n",
            " [4.99999856]\n",
            " [1.        ]]\n"
          ]
        }
      ]
    }
  ]
}